{
 "cells": [
  {
   "cell_type": "markdown",
   "id": "a74debb9",
   "metadata": {},
   "source": [
    "# Pythonの整数型 int の様々な使い方サンプル"
   ]
  },
  {
   "cell_type": "markdown",
   "id": "aacd6d44",
   "metadata": {},
   "source": [
    "### 1. 基本的な整数と代入"
   ]
  },
  {
   "cell_type": "code",
   "execution_count": 1,
   "id": "bb8226c3",
   "metadata": {},
   "outputs": [
    {
     "name": "stdout",
     "output_type": "stream",
     "text": [
      "--- 基本的な使い方 ---\n",
      "正の整数: 100\n",
      "負の整数: -50\n",
      "大きな整数: 987654321000\n"
     ]
    }
   ],
   "source": [
    "num1 = 100\n",
    "num2 = -50\n",
    "large_num = 987_654_321_000 # アンダースコアで桁区切りOK\n",
    "\n",
    "print(f\"--- 基本的な使い方 ---\")\n",
    "print(f\"正の整数: {num1}\")\n",
    "print(f\"負の整数: {num2}\")\n",
    "print(f\"大きな整数: {large_num}\")"
   ]
  },
  {
   "cell_type": "markdown",
   "id": "4ea71d17",
   "metadata": {},
   "source": [
    "### 2. 算術演算 (結果も基本的にint ※割り算'/'除く)"
   ]
  },
  {
   "cell_type": "code",
   "execution_count": 2,
   "id": "ac7a12cd",
   "metadata": {},
   "outputs": [
    {
     "name": "stdout",
     "output_type": "stream",
     "text": [
      "\n",
      "--- 算術演算 (a=20, b=7) ---\n",
      "和 (a + b): 27\n",
      "差 (a - b): 13\n",
      "積 (a * b): 140\n",
      "商(切り捨て) (a // b): 2\n",
      "剰余 (a % b): 6\n",
      "べき乗 (a ** b): 8000\n"
     ]
    }
   ],
   "source": [
    "a = 20\n",
    "b = 7\n",
    "print(f\"\\n--- 算術演算 (a={a}, b={b}) ---\")\n",
    "print(f\"和 (a + b): {a + b}\")         # 27\n",
    "print(f\"差 (a - b): {a - b}\")         # 13\n",
    "print(f\"積 (a * b): {a * b}\")         # 140\n",
    "# print(f\"商 (a / b): {a / b}\")       # 2.85... (floatになる)\n",
    "print(f\"商(切り捨て) (a // b): {a // b}\") # 2 (int)\n",
    "print(f\"剰余 (a % b): {a % b}\")       # 6\n",
    "print(f\"べき乗 (a ** b): {a ** 3}\")  # 8000 (aの3乗)"
   ]
  },
  {
   "cell_type": "markdown",
   "id": "a3c241d8",
   "metadata": {},
   "source": [
    "### 3. 型変換 (int()関数)"
   ]
  },
  {
   "cell_type": "code",
   "execution_count": 3,
   "id": "3edae548",
   "metadata": {},
   "outputs": [
    {
     "name": "stdout",
     "output_type": "stream",
     "text": [
      "\n",
      "--- 型変換 int() ---\n",
      "float 12.9 -> int: 12\n",
      "str '255' -> int: 255\n",
      "16進数'ff' -> int: 255\n",
      " 2進数'1010' -> int: 10\n"
     ]
    }
   ],
   "source": [
    "float_val = 12.9\n",
    "str_val = \"255\"\n",
    "str_hex = \"ff\" # 16進数文字列\n",
    "str_bin = \"1010\" # 2進数文字列\n",
    "\n",
    "print(f\"\\n--- 型変換 int() ---\")\n",
    "print(f\"float {float_val} -> int: {int(float_val)}\") # 12 (切り捨て)\n",
    "print(f\"str '{str_val}' -> int: {int(str_val)}\")     # 255\n",
    "print(f\"16進数'{str_hex}' -> int: {int(str_hex, 16)}\") # 255 (基数16指定)\n",
    "print(f\" 2進数'{str_bin}' -> int: {int(str_bin, 2)}\")  # 10 (基数2指定)"
   ]
  },
  {
   "cell_type": "markdown",
   "id": "74efac00",
   "metadata": {},
   "source": [
    "### 4. 比較演算 (結果はbool: True/False)"
   ]
  },
  {
   "cell_type": "code",
   "execution_count": 4,
   "id": "06a5f004",
   "metadata": {},
   "outputs": [
    {
     "name": "stdout",
     "output_type": "stream",
     "text": [
      "\n",
      "--- 比較演算 (x=10, y=10, z=5) ---\n",
      "x == y : True\n",
      "x != z : True\n",
      "x > z  : True\n",
      "x <= y : True\n"
     ]
    }
   ],
   "source": [
    "x = 10\n",
    "y = 10\n",
    "z = 5\n",
    "print(f\"\\n--- 比較演算 (x={x}, y={y}, z={z}) ---\")\n",
    "print(f\"x == y : {x == y}\") # True (等しい)\n",
    "print(f\"x != z : {x != z}\") # True (等しくない)\n",
    "print(f\"x > z  : {x > z}\")  # True (より大きい)\n",
    "print(f\"x <= y : {x <= y}\") # True (以下)"
   ]
  },
  {
   "cell_type": "code",
   "execution_count": null,
   "id": "b6c7f600",
   "metadata": {},
   "outputs": [],
   "source": []
  }
 ],
 "metadata": {
  "kernelspec": {
   "display_name": "Python 3",
   "language": "python",
   "name": "python3"
  },
  "language_info": {
   "codemirror_mode": {
    "name": "ipython",
    "version": 3
   },
   "file_extension": ".py",
   "mimetype": "text/x-python",
   "name": "python",
   "nbconvert_exporter": "python",
   "pygments_lexer": "ipython3",
   "version": "3.13.2"
  }
 },
 "nbformat": 4,
 "nbformat_minor": 5
}
